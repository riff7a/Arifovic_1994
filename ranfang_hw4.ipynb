{
 "cells": [
  {
   "cell_type": "markdown",
   "metadata": {},
   "source": [
    "# Genetic Algorithm Learning and the Cobweb Model"
   ]
  },
  {
   "cell_type": "markdown",
   "metadata": {},
   "source": [
    "The Cobweb model is a simple model of a market were:\n",
    "- Firms are price takers\n",
    "- Price is determined by total quantity of supply\n",
    "- Goods produced are identical across firms\n",
    "\n"
   ]
  },
  {
   "cell_type": "markdown",
   "source": "## Chromosomes\n",
   "metadata": {
    "collapsed": false
   }
  },
  {
   "cell_type": "markdown",
   "source": [
    "A population of chromosomes represents a collection of firms' decision rules.<br>\n",
    "Each chromosome represents a decision of a firm.<br>\n",
    "\n",
    "Defining chromosomes.\n",
    "- Genotype X: a string of binary digits.\n",
    "- Phenotype q: a real number, produce quantity for each time period.\n",
    "- Fitness function F: fitness of a string i at time period t, which is determined by the value of firms' profit earned at the end of time t.\n",
    "- Reproduction probability P(C): probability of contributing an offspring."
   ],
   "metadata": {
    "collapsed": false
   }
  },
  {
   "metadata": {
    "ExecuteTime": {
     "end_time": "2024-09-06T16:59:59.170934Z",
     "start_time": "2024-09-06T16:59:59.168660Z"
    }
   },
   "cell_type": "code",
   "source": [
    "import numpy as np\n",
    "import pandas as pd\n",
    "import random\n",
    "from copy import deepcopy\n",
    "from alive_progress import alive_bar"
   ],
   "outputs": [],
   "execution_count": 182
  },
  {
   "cell_type": "code",
   "metadata": {
    "ExecuteTime": {
     "end_time": "2024-09-06T16:59:59.190597Z",
     "start_time": "2024-09-06T16:59:59.188632Z"
    }
   },
   "source": [
    "class Chromosomes(object):\n",
    "    def __init__(self):\n",
    "        self.X = []\n",
    "        self.q = 0\n",
    "        self.F = 0\n",
    "        self.prop = 0"
   ],
   "outputs": [],
   "execution_count": 183
  },
  {
   "cell_type": "code",
   "metadata": {
    "ExecuteTime": {
     "end_time": "2024-09-06T16:59:59.211779Z",
     "start_time": "2024-09-06T16:59:59.209901Z"
    }
   },
   "source": [
    "def __get_quantity(x, q_bar, n_bits):\n",
    "    # this function is used to decode the genotype and obtain the phenotype\n",
    "    # x is an n_bits string over binary alphabet {0,1}\n",
    "    # [0, q_bar] is the domain of firm's action\n",
    "    q = 0\n",
    "    for bit in x:\n",
    "        q = (q << 1) | bit\n",
    "    return q*q_bar/2**n_bits\n",
    "    # denominator is a coefficient chosen to normalize the value "
   ],
   "outputs": [],
   "execution_count": 184
  },
  {
   "metadata": {},
   "cell_type": "markdown",
   "source": "In the example we use a 5-bit string: a string consisted with 5 binary digits, eg.[0,1,0,1,1] and a q_bar of 2.\n"
  },
  {
   "metadata": {
    "ExecuteTime": {
     "end_time": "2024-09-06T16:59:59.214934Z",
     "start_time": "2024-09-06T16:59:59.212570Z"
    }
   },
   "cell_type": "code",
   "source": "__get_quantity([0,1,0,1,1],2,5)",
   "outputs": [
    {
     "data": {
      "text/plain": [
       "0.6875"
      ]
     },
     "execution_count": 185,
     "metadata": {},
     "output_type": "execute_result"
    }
   ],
   "execution_count": 185
  },
  {
   "cell_type": "markdown",
   "source": "## GA:",
   "metadata": {
    "collapsed": false
   }
  },
  {
   "metadata": {},
   "cell_type": "markdown",
   "source": [
    "Genetic algorithm, three genetic operators: <b>reproduction<b>, <b>crossover<b>, and <b>mutation<b>, while the other, in addition to these three, includes the <b>election<b> operator.\n",
    "- Describe the evolution of a population of rules, representing different possible beliefs, in response to experience. \n",
    "- Frequency represents the credence."
   ]
  },
  {
   "metadata": {},
   "cell_type": "markdown",
   "source": "## Single-population design："
  },
  {
   "metadata": {},
   "cell_type": "markdown",
   "source": "A population of strings represents a population of agents with different opinions, each string standing for an individual agent."
  },
  {
   "cell_type": "code",
   "metadata": {
    "ExecuteTime": {
     "end_time": "2024-09-06T19:49:58.528521Z",
     "start_time": "2024-09-06T19:49:58.512392Z"
    }
   },
   "source": [
    "class cobwebGA(object):\n",
    "\n",
    "    def __init__(self,\n",
    "                 n_chromosomes=30, # number of chromosomes and the firms\n",
    "                 n_generations=30, \n",
    "                 n_bits=10,  # the length of the binary string\n",
    "                 q_bar=7, # threshold\n",
    "                 cr=0.002, # reproduction rate\n",
    "                 mr=0.003, # mutation rate\n",
    "                 A=100, # A and B are exogenous variables that determine the market price\n",
    "                 B=0.02, # P_t = A - B*Q_t\n",
    "                 x=1, # x and y are exogenous variables that determine the production cost\n",
    "                 y=1): # pi = P*q-x*q-0.5*y*q^2\n",
    "\n",
    "        self.__cr=cr\n",
    "        self.__mr=mr\n",
    "\n",
    "        self.__A=A\n",
    "        self.__B=B\n",
    "        self.__x=x\n",
    "        self.__y=y\n",
    "        self.__q_bar=q_bar\n",
    "\n",
    "        self.__n_chromosomes=n_chromosomes\n",
    "        self.__n_generations=n_generations\n",
    "        self.__n_bits =n_bits\n",
    "\n",
    "        self.__pop=[]\n",
    "        self.__prob=[]\n",
    "    \n",
    "\n",
    "    def __sampling(self):\n",
    "        # sampling strategy that allows for generating chromosomes with non-unique genotypes\n",
    "        for _ in range(self.__n_chromosomes):\n",
    "            # generate a string for every individual\n",
    "            s = Chromosomes()\n",
    "            s.X = list(np.random.randint(0, 2, n_bits))\n",
    "            self.__pop.append(s)\n",
    " \n",
    "    \n",
    "    def __get_quantity(self, x):\n",
    "        # genotype-phenotype decoder (as described above)\n",
    "        q = 0\n",
    "        for bit in x:\n",
    "            q = (q << 1) | bit\n",
    "        q = q*self.__q_bar/2**self.__n_bits\n",
    "        return q   \n",
    "   \n",
    "            \n",
    "    def __get_prices(self):\n",
    "        # function to extract market prices\n",
    "        Q = np.sum([s.q for s in self.__pop])\n",
    "        P = self.__A-self.__B*Q\n",
    "        return P\n",
    " \n",
    " \n",
    "    def __profits(self, P, q): \n",
    "        # q is the number of production\n",
    "        # fitness function (profit of single firm)\n",
    "        pi = P*q-self.__x*q-0.5*self.__y*self.__n_chromosomes*(q**2)\n",
    "        return pi\n",
    "    \n",
    "    \n",
    "    def __get_q_star(self):\n",
    "        # function to obtain rational expectations quantity equilibrium (later graphed with red dashed line)\n",
    "        q_star = (self.__A-self.__x)/(self.__B+self.__y)\n",
    "        return q_star\n",
    "\n",
    "   \n",
    "    def __get_p_star(self):\n",
    "        # function to obtain rational expectations prices equilibrium (later graphed with red dashed line)\n",
    "        q_star = self.__get_q_star()\n",
    "        p_star = self.__A-self.__B*q_star\n",
    "        return p_star\n",
    "    \n",
    "\n",
    "\n",
    "        \n",
    "    # Reproduction makes the copies of individual chromosomes. \n",
    "    # The criterion used in copying is the value of the fitness function. \n",
    "    # Chromosomes with higher fitness value are assigned higher probability of contributing an offspring that undergoes further genetic operation.\n",
    "    # A probability that a chromosome will get a copy is P=s.F/sum(s.F).\n",
    "        \n",
    "    def __get_probability(self, total_profits):\n",
    "        # function to calculate the probability of a chromosome to contribute an offspring\n",
    "        self.__prob=[]\n",
    "        for s in self.__pop:\n",
    "            s.prop = s.F/total_profits\n",
    "            self.__prob.append(s.prop)\n",
    " \n",
    "            \n",
    "    def __reproduction(self):\n",
    "        # select parents(string) for reproduction\n",
    "        # once a string is selected, its exact copy is made\n",
    "        # when n copies of strings are made (the number of strings in a population is kept constant the reproduction is completed and these copies constitute a mating pool which then undergoes the application of other genetic operators.\n",
    "        populations = self.__pop\n",
    "        probabilities = self.__prob\n",
    "        mating_pool = random.choices(populations, weights=probabilities, k=self.__n_chromosomes)\n",
    "        return mating_pool\n",
    "        \n",
    "        \n",
    "    # Crossover exchanges the parts of pairs og randomly selected strings\n",
    "    # 1st stage: two strings are selected from the mating pool at random\n",
    "    # p1 = random.sample(mating_pool, 2)[0]\n",
    "    # p2 = random.sample(mating_pool, 2)[1]\n",
    " \n",
    "    # 2nd stage: a number pt is selected, again, randomly from 1 to n.bits-1, and two new strings are formed by swapping the set of binary values to the right of the position k \n",
    "    def __one_point_crossover(self, p1, p2):    \n",
    "\n",
    "        c1, c2 = deepcopy(p1), deepcopy(p2) \n",
    "        # deepcopy recursively copies all objects found within the original, resulting in a completely\n",
    "        # check for recombination\n",
    "        if np.random.rand() < self.__cr:\n",
    "            # select a crossover point\n",
    "            pt = np.random.randint(1, len(p1.X)-2)\n",
    "            # perform crossover\n",
    "            c1.X = p1.X[:pt] + p2.X[pt:]\n",
    "            c2.X = p2.X[:pt] + p1.X[pt:]\n",
    "\n",
    "        return c1, c2\n",
    "\n",
    "\n",
    "    # Mutation is the process of a random change of the value og a position with a string.\n",
    "    # Each position has a small probability, pmut, of being altered by mutation, independently.\n",
    "    def __mutation(self, s):\n",
    "        # integer mutation and the selected bit is replaced with another bit value\n",
    "        for i in range(len(s.X)):\n",
    "            # check for a mutation\n",
    "            if np.random.rand() < self.__mr:\n",
    "                s.X[i] = 1-s.X[i] # exchange the value of 1 and 0\n",
    "\n",
    "    \n",
    "    # Election tests newly generated offsprings before they are permitted to become members of a new population.\n",
    "    def __election(self, p1, p2, c1, c2, prev_price):\n",
    "        # quantities are computed for each offspring\n",
    "        c1.q = self.__get_quantity(c1.X)\n",
    "        c2.q = self.__get_quantity(c2.X)\n",
    "        # quantities are used to obtain profits with prices identical to previous generation\n",
    "        c1.F = self.__profits(prev_price, c1.q)\n",
    "        c2.F = self.__profits(prev_price, c2.q)\n",
    "        # extract the best two individuals inside a family\n",
    "        fam = [p1, p2, c1, c2]\n",
    "        fam.sort(key=lambda x: x.F, reverse=True)\n",
    "        c1 = fam[0]\n",
    "        c2 = fam[1]\n",
    "        return c1, c2\n",
    "\n",
    "      \n",
    "\n",
    "\n",
    "    def run(self, election=False):\n",
    "        \n",
    "        # populaiton initialization\n",
    "        self.__sampling()\n",
    "        \n",
    "        # keep track of prices, quantity and generation for the market\n",
    "        outputs = {\n",
    "            'prices': [],\n",
    "            'quantity': [],\n",
    "            'average quantity': [],\n",
    "            'gen': []\n",
    "        }\n",
    "\n",
    "        # keep track of prices, quantity and generation for all the chromosomes\n",
    "        all_outputs = {\n",
    "            'prices': [],\n",
    "            'quantity': [],\n",
    "            'profits':[],\n",
    "            'gen': []\n",
    "        }\n",
    "\n",
    "        # enumerate generations\n",
    "        with alive_bar(self.__n_generations, force_tty=True) as bar:\n",
    "            for gen in range(self.__n_generations):\n",
    "\n",
    "                gen_q = 0\n",
    "\n",
    "                # extract individuals quantity\n",
    "                for s in self.__pop:\n",
    "                    s.q = self.__get_quantity(s.X)\n",
    "                    all_outputs['quantity'].append(s.q)\n",
    "                    gen_q = s.q+gen_q\n",
    "\n",
    "                # extract price for generation\n",
    "                price = self.__get_prices()\n",
    "                #saving results of market price for interpretation\n",
    "                outputs['prices'].append(price)\n",
    "\n",
    "                # extract chromosome profits given the generation price\n",
    "                for s in self.__pop:\n",
    "                    s.F = self.__profits(price, s.q)\n",
    "                    all_outputs['profits'].append(s.F)\n",
    "                    all_outputs['prices'].append(price)\n",
    "                    all_outputs['gen'].append(gen)\n",
    "                \n",
    "                # saving results of market outputs an n of generation for interpretation\n",
    "                outputs['quantity'].append(gen_q)\n",
    "                outputs['average quantity'].append(sum(all_outputs['quantity'])/len(all_outputs['quantity']))\n",
    "                outputs['gen'].append(gen)\n",
    "                \n",
    "                # calculate the probability of a chromosome being chosen into the mating pool\n",
    "                total_profits = sum(s.F for s in self.__pop)\n",
    "                for s in self.__pop:\n",
    "                    total_profits += s.F    \n",
    "                s.prob = self.__get_probability(total_profits)\n",
    "                \n",
    "                # create the mating pool\n",
    "                mating_pool = self.__reproduction()\n",
    "                # create the next populations\n",
    "                children = []\n",
    "                \n",
    "                for i in range(0, self.__n_chromosomes, 2):\n",
    "                # get selected parents in pairs\n",
    "                    p1 = random.sample(mating_pool, 2)[0]\n",
    "                    p2 = random.sample(mating_pool, 2)[1]\n",
    "                \n",
    "                    # crossover\n",
    "                    c1, c2 = self.__one_point_crossover(p1, p2)\n",
    "\n",
    "                    # mutation\n",
    "                    self.__mutation(c1)\n",
    "                    self.__mutation(c2)\n",
    "\n",
    "                    # election (if augmented GA is used)\n",
    "                    if election:\n",
    "                        c1, c2 = self.__election(p1, p2, c1, c2, price)\n",
    "\n",
    "                    # store for next generation\n",
    "                    children.append(c1)\n",
    "                    children.append(c2)\n",
    "\n",
    "                # replace population\n",
    "                self.__pop = children[:]\n",
    "                # counting for progress bar\n",
    "                bar()\n",
    "                outputs_df = pd.DataFrame.from_dict(outputs)\n",
    "                all_outputs_df = pd.DataFrame.from_dict(all_outputs)\n",
    "\n",
    "        return outputs_df, all_outputs_df"
   ],
   "outputs": [],
   "execution_count": 289
  },
  {
   "cell_type": "markdown",
   "source": "## Results of simulations",
   "metadata": {
    "collapsed": false
   }
  },
  {
   "cell_type": "code",
   "metadata": {
    "ExecuteTime": {
     "end_time": "2024-09-06T19:49:59.965400Z",
     "start_time": "2024-09-06T19:49:59.963186Z"
    }
   },
   "source": [
    "n_generations=100\n",
    "n_chromosomes=30\n",
    "\n",
    "n_bits=13\n",
    "q_bar=5\n",
    "\n",
    "c_r=0.9\n",
    "m_r=0.005\n",
    "\n",
    "A=100\n",
    "B=0.02\n",
    "x=3\n",
    "y=1"
   ],
   "outputs": [],
   "execution_count": 290
  },
  {
   "cell_type": "markdown",
   "source": [
    "Checking if result correspond to rational expectations model"
   ],
   "metadata": {
    "collapsed": false
   }
  },
  {
   "cell_type": "code",
   "source": [
    "def get_q_star(A, B, x, y, n):\n",
    "    q_star=(A-x)/(n*(B+y))\n",
    "    return q_star\n",
    "\n",
    "def get_p_star(A, B, x, y):\n",
    "    p_star=A-B*((A-x)/(B+y))\n",
    "    return p_star\n",
    "\n",
    "q_star=get_q_star(A=A, B=B, x=x, y=y, n=n_chromosomes)\n",
    "p_star=get_p_star(A=A, B=B, x=x, y=y)\n",
    "\n",
    "print('Equilibrium prices and quantity are',str(round(q_star,3)),'and',str(round(p_star,3)))"
   ],
   "metadata": {
    "collapsed": false,
    "ExecuteTime": {
     "end_time": "2024-09-06T19:50:01.320151Z",
     "start_time": "2024-09-06T19:50:01.316874Z"
    }
   },
   "outputs": [
    {
     "name": "stdout",
     "output_type": "stream",
     "text": [
      "Equilibrium prices and quantity are 3.17 and 98.098\n"
     ]
    }
   ],
   "execution_count": 291
  },
  {
   "metadata": {},
   "cell_type": "markdown",
   "source": [
    "## Basic GA\n",
    "- Election mechanism unenabled"
   ]
  },
  {
   "cell_type": "code",
   "metadata": {
    "ExecuteTime": {
     "end_time": "2024-09-06T19:51:55.419558Z",
     "start_time": "2024-09-06T19:51:55.212637Z"
    }
   },
   "source": [
    "ga = cobwebGA(n_chromosomes=n_chromosomes, n_generations=n_generations, n_bits=n_bits, q_bar=q_bar, cr=c_r, mr=m_r, A=A ,B=B , x=x , y=y)\n",
    "outputs_df_b, all_outputs_df_b = ga.run(election=False)"
   ],
   "outputs": [
    {
     "name": "stdout",
     "output_type": "stream",
     "text": [
      "|████████████████████████████████████████| 100/100 [100%] in 0.2s (651.84/s)    \n"
     ]
    }
   ],
   "execution_count": 298
  },
  {
   "metadata": {
    "ExecuteTime": {
     "end_time": "2024-09-06T19:51:55.760227Z",
     "start_time": "2024-09-06T19:51:55.755537Z"
    }
   },
   "cell_type": "code",
   "source": "print (outputs_df_b)",
   "outputs": [
    {
     "name": "stdout",
     "output_type": "stream",
     "text": [
      "       prices    quantity  average quantity  gen\n",
      "0   98.434229   78.288574          2.609619    0\n",
      "1   97.979297  101.035156          2.988729    1\n",
      "2   98.011023   99.448853          3.097473    2\n",
      "3   97.955896  102.205200          3.174815    3\n",
      "4   97.520166  123.991699          3.366463    4\n",
      "..        ...         ...               ...  ...\n",
      "95  98.018359   99.082031          3.512379   95\n",
      "96  98.070178   96.491089          3.509328   96\n",
      "97  98.048694   97.565308          3.506704   97\n",
      "98  98.107056   94.647217          3.503150   98\n",
      "99  97.981091  100.945435          3.501767   99\n",
      "\n",
      "[100 rows x 4 columns]\n"
     ]
    }
   ],
   "execution_count": 299
  },
  {
   "metadata": {
    "ExecuteTime": {
     "end_time": "2024-09-06T19:51:56.499031Z",
     "start_time": "2024-09-06T19:51:56.495353Z"
    }
   },
   "cell_type": "code",
   "source": "print (all_outputs_df_b)",
   "outputs": [
    {
     "name": "stdout",
     "output_type": "stream",
     "text": [
      "         prices  quantity     profits  gen\n",
      "0     98.434229  4.232788  135.205441    0\n",
      "1     98.434229  2.235718  138.387491    0\n",
      "2     98.434229  3.828735  145.504189    0\n",
      "3     98.434229  1.400757  104.248352    0\n",
      "4     98.434229  2.479858  144.417908    0\n",
      "...         ...       ...         ...  ...\n",
      "2995  97.981091  2.629395  146.037028   99\n",
      "2996  97.981091  2.630005  146.046849   99\n",
      "2997  97.981091  4.074707  137.971560   99\n",
      "2998  97.981091  3.879395  142.723597   99\n",
      "2999  97.981091  2.620239  145.888378   99\n",
      "\n",
      "[3000 rows x 4 columns]\n"
     ]
    }
   ],
   "execution_count": 300
  },
  {
   "metadata": {},
   "cell_type": "markdown",
   "source": [
    "## Argument GA\n",
    "- Election mechanism enabled"
   ]
  },
  {
   "metadata": {},
   "cell_type": "code",
   "outputs": [
    {
     "name": "stdout",
     "output_type": "stream",
     "text": [
      "|████████████████████████████████████████| 100/100 [100%] in 0.2s (446.52/s)    \n"
     ]
    }
   ],
   "execution_count": 301,
   "source": "outputs_df_a, all_outputs_df_a = ga.run(election=True)"
  },
  {
   "metadata": {
    "ExecuteTime": {
     "end_time": "2024-09-06T19:52:01.463315Z",
     "start_time": "2024-09-06T19:52:01.457777Z"
    }
   },
   "cell_type": "code",
   "source": "print (outputs_df_a)",
   "outputs": [
    {
     "name": "stdout",
     "output_type": "stream",
     "text": [
      "       prices    quantity  average quantity  gen\n",
      "0   96.200000  190.000000          3.166667    0\n",
      "1   97.777380  111.130981          3.345900    1\n",
      "2   97.899438  105.028076          3.384659    2\n",
      "3   98.211646   89.417725          3.303845    3\n",
      "4   98.181042   90.947876          3.258470    4\n",
      "..        ...         ...               ...  ...\n",
      "95  98.125781   93.710938          3.123335   95\n",
      "96  98.125366   93.731689          3.123346   96\n",
      "97  98.125366   93.731689          3.123356   97\n",
      "98  98.125366   93.731689          3.123366   98\n",
      "99  98.125366   93.731689          3.123377   99\n",
      "\n",
      "[100 rows x 4 columns]\n"
     ]
    }
   ],
   "execution_count": 302
  },
  {
   "metadata": {
    "ExecuteTime": {
     "end_time": "2024-09-06T20:23:48.126019Z",
     "start_time": "2024-09-06T20:23:48.045965Z"
    }
   },
   "cell_type": "code",
   "source": [
    "import matplotlib.pyplot as plt\n",
    "\n",
    "x = [1*x for x in range(n_generations)]\n",
    "array_basic = outputs_df_b['prices'].to_numpy()\n",
    "array_argument = outputs_df_a['prices'].to_numpy()\n",
    "\n",
    "fig = plt.figure()\n",
    "plt.plot(x, array_basic, color='blue', linewidth=1, label='Basic GA')\n",
    "plt.plot(x, array_argument, color='orange', linewidth=1, label='Argument GA')\n",
    "plt.plot(x, np.full_like(x,p_star), linestyle='--', color='red', linewidth=0.8)\n",
    "plt.ylabel('Prices', fontsize=10)\n",
    "plt.xlabel('Generations', fontsize=10)\n",
    "plt.legend(loc='best')\n",
    "plt.show()"
   ],
   "outputs": [
    {
     "data": {
      "text/plain": [
       "<Figure size 640x480 with 1 Axes>"
      ],
      "image/png": "[encoded data removed]"
     },
     "metadata": {},
     "output_type": "display_data"
    }
   ],
   "execution_count": 314
  },
  {
   "cell_type": "markdown",
   "source": "",
   "metadata": {
    "collapsed": false
   }
  }
 ],
 "metadata": {
  "kernelspec": {
   "display_name": "Python 3 (ipykernel)",
   "language": "python",
   "name": "python3"
  },
  "language_info": {
   "codemirror_mode": {
    "name": "ipython",
    "version": 2
   },
   "file_extension": ".py",
   "mimetype": "text/x-python",
   "name": "python",
   "nbconvert_exporter": "python",
   "pygments_lexer": "ipython2",
   "version": "2.7.6"
  }
 },
 "nbformat": 4,
 "nbformat_minor": 1
}
